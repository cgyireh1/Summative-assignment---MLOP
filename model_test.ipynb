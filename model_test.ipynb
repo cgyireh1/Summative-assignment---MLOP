{
 "cells": [
  {
   "cell_type": "code",
   "execution_count": 22,
   "metadata": {},
   "outputs": [
    {
     "name": "stdout",
     "output_type": "stream",
     "text": [
      "['encoder.pkl', 'randomforest__model.pkl', 'retrained_model.pkl', 'scaler.pkl']\n"
     ]
    }
   ],
   "source": [
    "import os\n",
    "print(os.listdir('/workspaces/diabetes_prediction-ML_Pipeline_Summative/models'))\n"
   ]
  },
  {
   "cell_type": "code",
   "execution_count": 23,
   "metadata": {},
   "outputs": [],
   "source": [
    "import pandas as pd\n",
    "import joblib\n",
    "from sklearn.preprocessing import LabelEncoder\n",
    "from src.preprocessing import load_data, preprocess_data, split_data\n",
    "from src.model import train_random_forest, evaluate_model, save_model, load_model\n",
    "from src.prediction import load_model_and_scaler, predict_single, preprocess_new_data\n",
    "\n"
   ]
  },
  {
   "cell_type": "markdown",
   "metadata": {},
   "source": [
    "## Preprocess Testing"
   ]
  },
  {
   "cell_type": "markdown",
   "metadata": {},
   "source": [
    "#### Data Loading"
   ]
  },
  {
   "cell_type": "code",
   "execution_count": 24,
   "metadata": {},
   "outputs": [
    {
     "name": "stdout",
     "output_type": "stream",
     "text": [
      "   gender   age  hypertension  heart_disease smoking_history    bmi  \\\n",
      "0  Female  80.0             0              1           never  25.19   \n",
      "1  Female  54.0             0              0         No Info  27.32   \n",
      "2    Male  28.0             0              0           never  27.32   \n",
      "3  Female  36.0             0              0         current  23.45   \n",
      "4    Male  76.0             1              1         current  20.14   \n",
      "\n",
      "   HbA1c_level  blood_glucose_level  diabetes  \n",
      "0          6.6                  140         0  \n",
      "1          6.6                   80         0  \n",
      "2          5.7                  158         0  \n",
      "3          5.0                  155         0  \n",
      "4          4.8                  155         0  \n"
     ]
    }
   ],
   "source": [
    "from src.preprocessing import load_data\n",
    "\n",
    "# Test the load_data function\n",
    "file_path = \"/workspaces/diabetes_prediction-ML_Pipeline_Summative/data/diabetes_prediction_dataset.csv\"  # Replace with the actual file path\n",
    "df = load_data(file_path)\n",
    "\n",
    "# Display the first few rows\n",
    "print(df.head())\n"
   ]
  },
  {
   "cell_type": "markdown",
   "metadata": {},
   "source": [
    "#### Preprocessing.py Testing"
   ]
  },
  {
   "cell_type": "code",
   "execution_count": 25,
   "metadata": {},
   "outputs": [
    {
     "name": "stdout",
     "output_type": "stream",
     "text": [
      "Processed Features Shape: (100000, 12)\n",
      "Processed Target Shape: (100000,)\n",
      "First 5 Encoded Features:\n",
      "[[-8.41046744e-01  1.69270354e+00 -2.84439447e-01  4.93637859e+00\n",
      "  -3.21055792e-01  1.00170572e+00  4.77042159e-02 -3.19946365e-01\n",
      "  -2.04230437e-01 -3.21198224e-01  1.35992968e+00 -2.62512493e-01]\n",
      " [-8.41046744e-01  5.38006427e-01 -2.84439447e-01 -2.02577655e-01\n",
      "  -1.15583678e-04  1.00170572e+00 -1.42620999e+00 -3.19946365e-01\n",
      "  -2.04230437e-01 -3.21198224e-01 -7.35332136e-01 -2.62512493e-01]\n",
      " [ 1.18723364e+00 -6.16690686e-01 -2.84439447e-01 -2.02577655e-01\n",
      "  -1.15583678e-04  1.61108022e-01  4.89878478e-01 -3.19946365e-01\n",
      "  -2.04230437e-01 -3.21198224e-01  1.35992968e+00 -2.62512493e-01]\n",
      " [-8.41046744e-01 -2.61399267e-01 -2.84439447e-01 -2.02577655e-01\n",
      "  -5.83232300e-01 -4.92690191e-01  4.16182767e-01  3.12552386e+00\n",
      "  -2.04230437e-01 -3.21198224e-01 -7.35332136e-01 -2.62512493e-01]\n",
      " [ 1.18723364e+00  1.51505783e+00  3.51568677e+00  4.93637859e+00\n",
      "  -1.08197037e+00 -6.79489680e-01  4.16182767e-01  3.12552386e+00\n",
      "  -2.04230437e-01 -3.21198224e-01 -7.35332136e-01 -2.62512493e-01]]\n"
     ]
    }
   ],
   "source": [
    "from src.preprocessing import preprocess_data\n",
    "\n",
    "# Test preprocess_data function\n",
    "X, y, scaler, encoder = preprocess_data(df)\n",
    "\n",
    "# Check the processed data\n",
    "print(\"Processed Features Shape:\", X.shape)\n",
    "print(\"Processed Target Shape:\", y.shape)\n",
    "print(\"First 5 Encoded Features:\")\n",
    "print(X[:5])\n"
   ]
  },
  {
   "cell_type": "markdown",
   "metadata": {},
   "source": [
    "#### With Pretrained Encoder"
   ]
  },
  {
   "cell_type": "code",
   "execution_count": 26,
   "metadata": {},
   "outputs": [
    {
     "name": "stdout",
     "output_type": "stream",
     "text": [
      "Processed Sample Features:\n",
      "[[0. 0. 0. 0. 0. 0. 0.]]\n"
     ]
    }
   ],
   "source": [
    "# Test the function with an existing encoder (use the one saved during model training)\n",
    "sample_data = pd.DataFrame([{\n",
    "    'gender': 'Female',\n",
    "    'age': 40,\n",
    "    'hypertension': 1,\n",
    "    'heart_disease': 0,\n",
    "    'bmi': 32.5,\n",
    "    'HbA1c_level': 7.2,\n",
    "    'blood_glucose_level': 150,\n",
    "    'smoking_history': 'former',\n",
    "    'diabetes': 0 \n",
    "}])\n",
    "\n",
    "X_sample, _, _, _ = preprocess_data(sample_data, encoder=encoder)\n",
    "print(\"Processed Sample Features:\")\n",
    "print(X_sample)\n"
   ]
  },
  {
   "cell_type": "markdown",
   "metadata": {},
   "source": [
    "### Data Slitting"
   ]
  },
  {
   "cell_type": "code",
   "execution_count": 27,
   "metadata": {},
   "outputs": [
    {
     "name": "stdout",
     "output_type": "stream",
     "text": [
      "Training Features Shape: (80000, 12)\n",
      "Testing Features Shape: (20000, 12)\n",
      "Training Target Shape: (80000,)\n",
      "Testing Target Shape: (20000,)\n"
     ]
    }
   ],
   "source": [
    "from src.preprocessing import split_data\n",
    "\n",
    "# Split the dataset\n",
    "X_train, X_test, y_train, y_test = split_data(X, y)\n",
    "\n",
    "# Check the shapes of the splits\n",
    "print(\"Training Features Shape:\", X_train.shape)\n",
    "print(\"Testing Features Shape:\", X_test.shape)\n",
    "print(\"Training Target Shape:\", y_train.shape)\n",
    "print(\"Testing Target Shape:\", y_test.shape)\n"
   ]
  },
  {
   "cell_type": "markdown",
   "metadata": {},
   "source": [
    "### model.py Testing"
   ]
  },
  {
   "cell_type": "code",
   "execution_count": 28,
   "metadata": {},
   "outputs": [],
   "source": [
    "from sklearn.model_selection import train_test_split\n",
    "from src.model import train_random_forest, evaluate_model, save_model, load_model, retrain_model"
   ]
  },
  {
   "cell_type": "code",
   "execution_count": 29,
   "metadata": {},
   "outputs": [],
   "source": [
    "# Train the model\n",
    "model = train_random_forest(X_train, y_train)\n"
   ]
  },
  {
   "cell_type": "code",
   "execution_count": 36,
   "metadata": {},
   "outputs": [
    {
     "name": "stdout",
     "output_type": "stream",
     "text": [
      "Accuracy: 0.96965\n",
      "Confusion Matrix:\n",
      "[[18218    82]\n",
      " [  525  1175]]\n",
      "Classification Report:\n",
      "              precision    recall  f1-score   support\n",
      "\n",
      "           0       0.97      1.00      0.98     18300\n",
      "           1       0.93      0.69      0.79      1700\n",
      "\n",
      "    accuracy                           0.97     20000\n",
      "   macro avg       0.95      0.84      0.89     20000\n",
      "weighted avg       0.97      0.97      0.97     20000\n",
      "\n"
     ]
    }
   ],
   "source": [
    "# Evaluate the model and plot results\n",
    "acc, cm, report = evaluate_model(model, X_test, y_test)\n",
    "\n",
    "# Print evaluation results\n",
    "print(f\"Accuracy: {acc}\")\n",
    "print(f\"Confusion Matrix:\\n{cm}\")\n",
    "print(f\"Classification Report:\\n{report}\")"
   ]
  },
  {
   "cell_type": "code",
   "execution_count": 31,
   "metadata": {},
   "outputs": [],
   "source": [
    "# Step 5: Save the trained model\n",
    "save_model(model, 'models/random_forest_model.pkl')\n",
    "\n",
    "# Step 6: Load the saved model (to simulate reloading in production or testing)\n",
    "loaded_model = load_model('models/random_forest_model.pkl')"
   ]
  },
  {
   "cell_type": "markdown",
   "metadata": {},
   "source": [
    "#### Model Retraining"
   ]
  },
  {
   "cell_type": "code",
   "execution_count": 32,
   "metadata": {},
   "outputs": [],
   "source": [
    "# Retrain the model\n",
    "retrained_model = retrain_model(X_train, y_train, model_path='models/retrained_model.pkl')"
   ]
  },
  {
   "cell_type": "markdown",
   "metadata": {},
   "source": [
    "### Prediction Test"
   ]
  },
  {
   "cell_type": "code",
   "execution_count": 33,
   "metadata": {},
   "outputs": [
    {
     "name": "stdout",
     "output_type": "stream",
     "text": [
      "Prediction: Diabetes\n"
     ]
    }
   ],
   "source": [
    "# Set the paths to the saved model and scaler\n",
    "model_path = '/workspaces/diabetes_prediction-ML_Pipeline_Summative/models/randomforest__model.pkl'  # Path to the trained model\n",
    "scaler_path = '/workspaces/diabetes_prediction-ML_Pipeline_Summative/models/scaler.pkl'  # Path to the saved scaler\n",
    "\n",
    "# Load the model and scaler\n",
    "model, scaler = load_model_and_scaler(model_path, scaler_path)\n",
    "\n",
    "# Load the encoder\n",
    "encoder = LabelEncoder()\n",
    "# Optionally, if you saved the encoder, load it\n",
    "encoder = joblib.load('/workspaces/diabetes_prediction-ML_Pipeline_Summative/models/encoder.pkl')\n",
    "\n",
    "# New data for prediction\n",
    "new_data = pd.DataFrame([{\n",
    "    'gender': 'Female',  # Gender: Female\n",
    "    'age': 55,  # Age: 55 years\n",
    "    'hypertension': 1,  # Hypertension: Yes\n",
    "    'heart_disease': 1,  # Heart Disease: Yes\n",
    "    'bmi': 32.7,  # BMI: 32.7 (indicates overweight/obesity)\n",
    "    'HbA1c_level': 8.2,  # HbA1c Level: 8.2% (indicates diabetes)\n",
    "    'blood_glucose_level': 190,  # Blood Glucose Level: 190 mg/dL (high level)\n",
    "    'smoking_history': 'current'  # Smoking History: Current smoker\n",
    "}])\n",
    "\n",
    "\n",
    "# Preprocess and predict\n",
    "X_new = preprocess_new_data(new_data, scaler, encoder)\n",
    "prediction = model.predict(X_new)\n",
    "print(\"Prediction:\", \"Diabetes\" if prediction[0] == 1 else \"No Diabetes\")\n"
   ]
  },
  {
   "cell_type": "markdown",
   "metadata": {},
   "source": [
    "#### Sample data"
   ]
  },
  {
   "cell_type": "code",
   "execution_count": 34,
   "metadata": {},
   "outputs": [],
   "source": [
    "sample_data = pd.DataFrame([{\n",
    "    'gender': 'Female',\n",
    "    'age': 35,\n",
    "    'hypertension': 1,\n",
    "    'heart_disease': 0,\n",
    "    'bmi': 28.7,\n",
    "    'HbA1c_level': 6.5,\n",
    "    'blood_glucose_level': 180,\n",
    "    'smoking_history': 'current'\n",
    "}])\n"
   ]
  },
  {
   "cell_type": "markdown",
   "metadata": {},
   "source": []
  }
 ],
 "metadata": {
  "kernelspec": {
   "display_name": "Python 3",
   "language": "python",
   "name": "python3"
  },
  "language_info": {
   "codemirror_mode": {
    "name": "ipython",
    "version": 3
   },
   "file_extension": ".py",
   "mimetype": "text/x-python",
   "name": "python",
   "nbconvert_exporter": "python",
   "pygments_lexer": "ipython3",
   "version": "3.12.1"
  }
 },
 "nbformat": 4,
 "nbformat_minor": 2
}
